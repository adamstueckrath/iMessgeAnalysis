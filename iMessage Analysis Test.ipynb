{
 "cells": [
  {
   "cell_type": "markdown",
   "metadata": {},
   "source": [
    "# Analyzing iMessage Conversations with GF"
   ]
  },
  {
   "cell_type": "markdown",
   "metadata": {},
   "source": [
    "## Load chat data in sqlite\n",
    "\n",
    "##### Load chat data from ~/username/Library/Messages/chat.db into sqlite to use the native macOS sqlite to open up the chat.db type: \n",
    "\n",
    "`sqlite3 /Users/username/Library/Messages/chat.db` \n",
    "\n"
   ]
  },
  {
   "cell_type": "markdown",
   "metadata": {},
   "source": [
    "#### Look into the tables with: \n",
    "\n",
    "`.tables`\n",
    "\n",
    "Three sections: \n",
    "* extracting the data\n",
    "* transforming (cleaning) the data\n",
    "* getting insights into data \n",
    "** Messages I sent versus bridget"
   ]
  },
  {
   "cell_type": "code",
   "execution_count": 1,
   "metadata": {
    "collapsed": true
   },
   "outputs": [],
   "source": [
    "import sqlite3\n",
    "import pandas as pd\n",
    "import datetime\n",
    "import emoji\n",
    "import matplotlib.pyplot as plt\n",
    "import seaborn as sns\n",
    "\n",
    "%matplotlib inline\n",
    "plt.style.use('ggplot') # do i need this? \n",
    "sns.set_palette('Set2') # do i need this? "
   ]
  },
  {
   "cell_type": "code",
   "execution_count": 2,
   "metadata": {
    "collapsed": true
   },
   "outputs": [],
   "source": [
    "# connect to sqlite chat database in user directory\n",
    "sqlite_db = sqlite3.connect('/Users/adamstueckrath/Library/Messages/chat.db')"
   ]
  },
  {
   "cell_type": "code",
   "execution_count": 3,
   "metadata": {
    "collapsed": true
   },
   "outputs": [],
   "source": [
    "# get a “cursor” to execute sql commands\n",
    "sql_command = sqlite_db.cursor()"
   ]
  },
  {
   "cell_type": "code",
   "execution_count": 4,
   "metadata": {
    "collapsed": true
   },
   "outputs": [],
   "source": [
    "# sql query -> need to expand and give description \n",
    "query = '''\n",
    "        SELECT * FROM chat\n",
    "        INNER JOIN handle\n",
    "            ON chat.chat_identifier = handle.id\n",
    "        INNER JOIN chat_handle_join\n",
    "            ON  handle.ROWID = chat_handle_join.handle_id\n",
    "        INNER JOIN message\n",
    "            ON message.handle_id = chat_handle_join.handle_id\n",
    "        WHERE (chat_identifier LIKE '%8385'\n",
    "            OR chat_identifier LIKE '%622%')\n",
    "            AND length(message.text) > 0\n",
    "        '''\n",
    "\n",
    "# execute sql query in sqlite3 \n",
    "table = sql_command.execute(query)\n",
    "\n",
    "# get list of column names. example: ['ROWID', 'account', 'account_guid']\n",
    "# table.description is description of columns\n",
    "column_names = list(map(lambda x: x[0], table.description))\n",
    "\n",
    "# load sql table into pandas dataframe and pass in the column names\n",
    "chat_df = pd.DataFrame(table.fetchall(), columns=column_names)"
   ]
  },
  {
   "cell_type": "code",
   "execution_count": 5,
   "metadata": {
    "collapsed": true
   },
   "outputs": [],
   "source": [
    "# List all of the tables in chat.db \n",
    "\n",
    "# Investigate data\n",
    "\n",
    "#***MAKE NOTE OF STORED READ RECEIPTS \"is_read\"*** -> user expected behavior?? Maybe, maybe not?\n",
    "\n"
   ]
  },
  {
   "cell_type": "code",
   "execution_count": 6,
   "metadata": {},
   "outputs": [
    {
     "data": {
      "text/html": [
       "<div>\n",
       "<style scoped>\n",
       "    .dataframe tbody tr th:only-of-type {\n",
       "        vertical-align: middle;\n",
       "    }\n",
       "\n",
       "    .dataframe tbody tr th {\n",
       "        vertical-align: top;\n",
       "    }\n",
       "\n",
       "    .dataframe thead th {\n",
       "        text-align: right;\n",
       "    }\n",
       "</style>\n",
       "<table border=\"1\" class=\"dataframe\">\n",
       "  <thead>\n",
       "    <tr style=\"text-align: right;\">\n",
       "      <th></th>\n",
       "      <th>ROWID</th>\n",
       "      <th>guid</th>\n",
       "      <th>style</th>\n",
       "      <th>state</th>\n",
       "      <th>account_id</th>\n",
       "      <th>properties</th>\n",
       "      <th>chat_identifier</th>\n",
       "      <th>service_name</th>\n",
       "      <th>room_name</th>\n",
       "      <th>account_login</th>\n",
       "      <th>...</th>\n",
       "      <th>associated_message_range_length</th>\n",
       "      <th>time_expressive_send_played</th>\n",
       "      <th>message_summary_info</th>\n",
       "      <th>ck_sync_state</th>\n",
       "      <th>ck_record_id</th>\n",
       "      <th>ck_record_change_tag</th>\n",
       "      <th>destination_caller_id</th>\n",
       "      <th>sr_ck_sync_state</th>\n",
       "      <th>sr_ck_record_id</th>\n",
       "      <th>sr_ck_record_change_tag</th>\n",
       "    </tr>\n",
       "  </thead>\n",
       "  <tbody>\n",
       "    <tr>\n",
       "      <th>115652</th>\n",
       "      <td>3</td>\n",
       "      <td>iMessage;-;+12246228385</td>\n",
       "      <td>45</td>\n",
       "      <td>3</td>\n",
       "      <td>3AF46D92-D26E-4FE7-AAE0-12EB5480563D</td>\n",
       "      <td>b'bplist00\\xd3\\x01\\x02\\x03\\x04\\x05\\x06_\\x10\\x1...</td>\n",
       "      <td>+12246228385</td>\n",
       "      <td>iMessage</td>\n",
       "      <td>None</td>\n",
       "      <td>E:stueckrath.adam@gmail.com</td>\n",
       "      <td>...</td>\n",
       "      <td>0</td>\n",
       "      <td>0</td>\n",
       "      <td>None</td>\n",
       "      <td>0</td>\n",
       "      <td></td>\n",
       "      <td></td>\n",
       "      <td>+15154180987</td>\n",
       "      <td>0</td>\n",
       "      <td></td>\n",
       "      <td></td>\n",
       "    </tr>\n",
       "    <tr>\n",
       "      <th>115653</th>\n",
       "      <td>3</td>\n",
       "      <td>iMessage;-;+12246228385</td>\n",
       "      <td>45</td>\n",
       "      <td>3</td>\n",
       "      <td>3AF46D92-D26E-4FE7-AAE0-12EB5480563D</td>\n",
       "      <td>b'bplist00\\xd3\\x01\\x02\\x03\\x04\\x05\\x06_\\x10\\x1...</td>\n",
       "      <td>+12246228385</td>\n",
       "      <td>iMessage</td>\n",
       "      <td>None</td>\n",
       "      <td>E:stueckrath.adam@gmail.com</td>\n",
       "      <td>...</td>\n",
       "      <td>0</td>\n",
       "      <td>0</td>\n",
       "      <td>None</td>\n",
       "      <td>0</td>\n",
       "      <td></td>\n",
       "      <td></td>\n",
       "      <td>+15154180987</td>\n",
       "      <td>0</td>\n",
       "      <td></td>\n",
       "      <td></td>\n",
       "    </tr>\n",
       "  </tbody>\n",
       "</table>\n",
       "<p>2 rows × 100 columns</p>\n",
       "</div>"
      ],
      "text/plain": [
       "        ROWID                     guid  style  state  \\\n",
       "115652      3  iMessage;-;+12246228385     45      3   \n",
       "115653      3  iMessage;-;+12246228385     45      3   \n",
       "\n",
       "                                  account_id  \\\n",
       "115652  3AF46D92-D26E-4FE7-AAE0-12EB5480563D   \n",
       "115653  3AF46D92-D26E-4FE7-AAE0-12EB5480563D   \n",
       "\n",
       "                                               properties chat_identifier  \\\n",
       "115652  b'bplist00\\xd3\\x01\\x02\\x03\\x04\\x05\\x06_\\x10\\x1...    +12246228385   \n",
       "115653  b'bplist00\\xd3\\x01\\x02\\x03\\x04\\x05\\x06_\\x10\\x1...    +12246228385   \n",
       "\n",
       "       service_name room_name                account_login  \\\n",
       "115652     iMessage      None  E:stueckrath.adam@gmail.com   \n",
       "115653     iMessage      None  E:stueckrath.adam@gmail.com   \n",
       "\n",
       "                 ...             associated_message_range_length  \\\n",
       "115652           ...                                           0   \n",
       "115653           ...                                           0   \n",
       "\n",
       "       time_expressive_send_played message_summary_info ck_sync_state  \\\n",
       "115652                           0                 None             0   \n",
       "115653                           0                 None             0   \n",
       "\n",
       "        ck_record_id  ck_record_change_tag destination_caller_id  \\\n",
       "115652                                              +15154180987   \n",
       "115653                                              +15154180987   \n",
       "\n",
       "       sr_ck_sync_state  sr_ck_record_id  sr_ck_record_change_tag  \n",
       "115652                0                                            \n",
       "115653                0                                            \n",
       "\n",
       "[2 rows x 100 columns]"
      ]
     },
     "execution_count": 6,
     "metadata": {},
     "output_type": "execute_result"
    }
   ],
   "source": [
    "# display iMessage chat dataframe head() \n",
    "chat_df.tail(2)"
   ]
  },
  {
   "cell_type": "markdown",
   "metadata": {},
   "source": [
    "## Transform Data"
   ]
  },
  {
   "cell_type": "code",
   "execution_count": 7,
   "metadata": {},
   "outputs": [
    {
     "data": {
      "text/html": [
       "<div>\n",
       "<style scoped>\n",
       "    .dataframe tbody tr th:only-of-type {\n",
       "        vertical-align: middle;\n",
       "    }\n",
       "\n",
       "    .dataframe tbody tr th {\n",
       "        vertical-align: top;\n",
       "    }\n",
       "\n",
       "    .dataframe thead th {\n",
       "        text-align: right;\n",
       "    }\n",
       "</style>\n",
       "<table border=\"1\" class=\"dataframe\">\n",
       "  <thead>\n",
       "    <tr style=\"text-align: right;\">\n",
       "      <th></th>\n",
       "      <th>id</th>\n",
       "      <th>is_from_me</th>\n",
       "      <th>text</th>\n",
       "      <th>cache_has_attachments</th>\n",
       "      <th>date</th>\n",
       "    </tr>\n",
       "  </thead>\n",
       "  <tbody>\n",
       "    <tr>\n",
       "      <th>115649</th>\n",
       "      <td>+12246228385</td>\n",
       "      <td>1</td>\n",
       "      <td>I don’t have the baths on my day so we can do ...</td>\n",
       "      <td>0</td>\n",
       "      <td>545615542637387264</td>\n",
       "    </tr>\n",
       "    <tr>\n",
       "      <th>115650</th>\n",
       "      <td>+12246228385</td>\n",
       "      <td>1</td>\n",
       "      <td>Breakfast\\nGerloczy Café - Order the Hungarian...</td>\n",
       "      <td>0</td>\n",
       "      <td>545615609870816448</td>\n",
       "    </tr>\n",
       "    <tr>\n",
       "      <th>115651</th>\n",
       "      <td>+12246228385</td>\n",
       "      <td>1</td>\n",
       "      <td>Heres my day in budapest</td>\n",
       "      <td>0</td>\n",
       "      <td>545615616028685568</td>\n",
       "    </tr>\n",
       "    <tr>\n",
       "      <th>115652</th>\n",
       "      <td>+12246228385</td>\n",
       "      <td>0</td>\n",
       "      <td>That sounds perfect 🙌🏻</td>\n",
       "      <td>0</td>\n",
       "      <td>545615720102673024</td>\n",
       "    </tr>\n",
       "    <tr>\n",
       "      <th>115653</th>\n",
       "      <td>+12246228385</td>\n",
       "      <td>0</td>\n",
       "      <td>I love you. This trip is gonna be amazing</td>\n",
       "      <td>0</td>\n",
       "      <td>545616963492629504</td>\n",
       "    </tr>\n",
       "  </tbody>\n",
       "</table>\n",
       "</div>"
      ],
      "text/plain": [
       "                  id  is_from_me  \\\n",
       "115649  +12246228385           1   \n",
       "115650  +12246228385           1   \n",
       "115651  +12246228385           1   \n",
       "115652  +12246228385           0   \n",
       "115653  +12246228385           0   \n",
       "\n",
       "                                                     text  \\\n",
       "115649  I don’t have the baths on my day so we can do ...   \n",
       "115650  Breakfast\\nGerloczy Café - Order the Hungarian...   \n",
       "115651                           Heres my day in budapest   \n",
       "115652                             That sounds perfect 🙌🏻   \n",
       "115653          I love you. This trip is gonna be amazing   \n",
       "\n",
       "        cache_has_attachments                date  \n",
       "115649                      0  545615542637387264  \n",
       "115650                      0  545615609870816448  \n",
       "115651                      0  545615616028685568  \n",
       "115652                      0  545615720102673024  \n",
       "115653                      0  545616963492629504  "
      ]
     },
     "execution_count": 7,
     "metadata": {},
     "output_type": "execute_result"
    }
   ],
   "source": [
    "# select columns from chat dataframe\n",
    "column_list = ['id','is_from_me','text','cache_has_attachments','date']\n",
    "chat_df = chat_df[column_list]\n",
    "\n",
    "# show the last 5 rows with selected columns\n",
    "chat_df.tail()"
   ]
  },
  {
   "cell_type": "code",
   "execution_count": 8,
   "metadata": {},
   "outputs": [
    {
     "data": {
      "text/html": [
       "<div>\n",
       "<style scoped>\n",
       "    .dataframe tbody tr th:only-of-type {\n",
       "        vertical-align: middle;\n",
       "    }\n",
       "\n",
       "    .dataframe tbody tr th {\n",
       "        vertical-align: top;\n",
       "    }\n",
       "\n",
       "    .dataframe thead th {\n",
       "        text-align: right;\n",
       "    }\n",
       "</style>\n",
       "<table border=\"1\" class=\"dataframe\">\n",
       "  <thead>\n",
       "    <tr style=\"text-align: right;\">\n",
       "      <th></th>\n",
       "      <th>phone_number</th>\n",
       "      <th>is_sent</th>\n",
       "      <th>message</th>\n",
       "      <th>is_picture</th>\n",
       "      <th>message_date</th>\n",
       "    </tr>\n",
       "  </thead>\n",
       "  <tbody>\n",
       "    <tr>\n",
       "      <th>115649</th>\n",
       "      <td>+12246228385</td>\n",
       "      <td>1</td>\n",
       "      <td>I don’t have the baths on my day so we can do ...</td>\n",
       "      <td>0</td>\n",
       "      <td>545615542637387264</td>\n",
       "    </tr>\n",
       "    <tr>\n",
       "      <th>115650</th>\n",
       "      <td>+12246228385</td>\n",
       "      <td>1</td>\n",
       "      <td>Breakfast\\nGerloczy Café - Order the Hungarian...</td>\n",
       "      <td>0</td>\n",
       "      <td>545615609870816448</td>\n",
       "    </tr>\n",
       "    <tr>\n",
       "      <th>115651</th>\n",
       "      <td>+12246228385</td>\n",
       "      <td>1</td>\n",
       "      <td>Heres my day in budapest</td>\n",
       "      <td>0</td>\n",
       "      <td>545615616028685568</td>\n",
       "    </tr>\n",
       "    <tr>\n",
       "      <th>115652</th>\n",
       "      <td>+12246228385</td>\n",
       "      <td>0</td>\n",
       "      <td>That sounds perfect 🙌🏻</td>\n",
       "      <td>0</td>\n",
       "      <td>545615720102673024</td>\n",
       "    </tr>\n",
       "    <tr>\n",
       "      <th>115653</th>\n",
       "      <td>+12246228385</td>\n",
       "      <td>0</td>\n",
       "      <td>I love you. This trip is gonna be amazing</td>\n",
       "      <td>0</td>\n",
       "      <td>545616963492629504</td>\n",
       "    </tr>\n",
       "  </tbody>\n",
       "</table>\n",
       "</div>"
      ],
      "text/plain": [
       "        phone_number  is_sent  \\\n",
       "115649  +12246228385        1   \n",
       "115650  +12246228385        1   \n",
       "115651  +12246228385        1   \n",
       "115652  +12246228385        0   \n",
       "115653  +12246228385        0   \n",
       "\n",
       "                                                  message  is_picture  \\\n",
       "115649  I don’t have the baths on my day so we can do ...           0   \n",
       "115650  Breakfast\\nGerloczy Café - Order the Hungarian...           0   \n",
       "115651                           Heres my day in budapest           0   \n",
       "115652                             That sounds perfect 🙌🏻           0   \n",
       "115653          I love you. This trip is gonna be amazing           0   \n",
       "\n",
       "              message_date  \n",
       "115649  545615542637387264  \n",
       "115650  545615609870816448  \n",
       "115651  545615616028685568  \n",
       "115652  545615720102673024  \n",
       "115653  545616963492629504  "
      ]
     },
     "execution_count": 8,
     "metadata": {},
     "output_type": "execute_result"
    }
   ],
   "source": [
    "# house cleaning - drop duplicate columns from dataframe\n",
    "chat_df = chat_df.loc[:,~chat_df.columns.duplicated()]\n",
    "\n",
    "# rename columns \n",
    "chat_df.rename(columns={'id':'phone_number','is_from_me':'is_sent', \n",
    "                        'text':'message','cache_has_attachments':'is_picture', \n",
    "                        'date':'message_date'}, inplace=True)\n",
    "\n",
    "# show the last 5 rows with selected columns\n",
    "chat_df.tail()"
   ]
  },
  {
   "cell_type": "code",
   "execution_count": 9,
   "metadata": {
    "collapsed": true
   },
   "outputs": [],
   "source": [
    "# add column is_received column\n",
    "# it is the opposite of is_sent. exmaple: is_sent = 1, is_received = 0\n",
    "# axis=1 defines that function is to be applied on each row\n",
    "chat_df['is_received'] = chat_df.apply(lambda row: int(not bool(row.is_sent)), axis=1)"
   ]
  },
  {
   "cell_type": "code",
   "execution_count": 10,
   "metadata": {
    "collapsed": true
   },
   "outputs": [],
   "source": [
    "# transform phone_number df.apply (lambda row: label_race (row),axis=1)\n",
    "def clean_phone_numb(number):\n",
    "    if bool(number):\n",
    "        return '515-418-0987'\n",
    "    return '224-622-8385'\n",
    "\n",
    "chat_df['phone_number'] = chat_df.apply(lambda row: clean_phone_numb(row.is_sent), axis=1)\n"
   ]
  },
  {
   "cell_type": "code",
   "execution_count": 11,
   "metadata": {},
   "outputs": [
    {
     "data": {
      "text/html": [
       "<div>\n",
       "<style scoped>\n",
       "    .dataframe tbody tr th:only-of-type {\n",
       "        vertical-align: middle;\n",
       "    }\n",
       "\n",
       "    .dataframe tbody tr th {\n",
       "        vertical-align: top;\n",
       "    }\n",
       "\n",
       "    .dataframe thead th {\n",
       "        text-align: right;\n",
       "    }\n",
       "</style>\n",
       "<table border=\"1\" class=\"dataframe\">\n",
       "  <thead>\n",
       "    <tr style=\"text-align: right;\">\n",
       "      <th></th>\n",
       "      <th>phone_number</th>\n",
       "      <th>is_sent</th>\n",
       "      <th>message</th>\n",
       "      <th>is_picture</th>\n",
       "      <th>message_date</th>\n",
       "      <th>is_received</th>\n",
       "    </tr>\n",
       "  </thead>\n",
       "  <tbody>\n",
       "    <tr>\n",
       "      <th>115649</th>\n",
       "      <td>515-418-0987</td>\n",
       "      <td>1</td>\n",
       "      <td>I don’t have the baths on my day so we can do ...</td>\n",
       "      <td>0</td>\n",
       "      <td>2017-04-16 23:52:22.637387</td>\n",
       "      <td>0</td>\n",
       "    </tr>\n",
       "    <tr>\n",
       "      <th>115650</th>\n",
       "      <td>515-418-0987</td>\n",
       "      <td>1</td>\n",
       "      <td>Breakfast\\nGerloczy Café - Order the Hungarian...</td>\n",
       "      <td>0</td>\n",
       "      <td>2017-04-16 23:53:29.870816</td>\n",
       "      <td>0</td>\n",
       "    </tr>\n",
       "    <tr>\n",
       "      <th>115651</th>\n",
       "      <td>515-418-0987</td>\n",
       "      <td>1</td>\n",
       "      <td>Heres my day in budapest</td>\n",
       "      <td>0</td>\n",
       "      <td>2017-04-16 23:53:36.028685</td>\n",
       "      <td>0</td>\n",
       "    </tr>\n",
       "    <tr>\n",
       "      <th>115652</th>\n",
       "      <td>224-622-8385</td>\n",
       "      <td>0</td>\n",
       "      <td>That sounds perfect 🙌🏻</td>\n",
       "      <td>0</td>\n",
       "      <td>2017-04-16 23:55:20.102673</td>\n",
       "      <td>1</td>\n",
       "    </tr>\n",
       "    <tr>\n",
       "      <th>115653</th>\n",
       "      <td>224-622-8385</td>\n",
       "      <td>0</td>\n",
       "      <td>I love you. This trip is gonna be amazing</td>\n",
       "      <td>0</td>\n",
       "      <td>2017-04-17 00:16:03.492629</td>\n",
       "      <td>1</td>\n",
       "    </tr>\n",
       "  </tbody>\n",
       "</table>\n",
       "</div>"
      ],
      "text/plain": [
       "        phone_number  is_sent  \\\n",
       "115649  515-418-0987        1   \n",
       "115650  515-418-0987        1   \n",
       "115651  515-418-0987        1   \n",
       "115652  224-622-8385        0   \n",
       "115653  224-622-8385        0   \n",
       "\n",
       "                                                  message  is_picture  \\\n",
       "115649  I don’t have the baths on my day so we can do ...           0   \n",
       "115650  Breakfast\\nGerloczy Café - Order the Hungarian...           0   \n",
       "115651                           Heres my day in budapest           0   \n",
       "115652                             That sounds perfect 🙌🏻           0   \n",
       "115653          I love you. This trip is gonna be amazing           0   \n",
       "\n",
       "                     message_date  is_received  \n",
       "115649 2017-04-16 23:52:22.637387            0  \n",
       "115650 2017-04-16 23:53:29.870816            0  \n",
       "115651 2017-04-16 23:53:36.028685            0  \n",
       "115652 2017-04-16 23:55:20.102673            1  \n",
       "115653 2017-04-17 00:16:03.492629            1  "
      ]
     },
     "execution_count": 11,
     "metadata": {},
     "output_type": "execute_result"
    }
   ],
   "source": [
    "# transform message_date column into datetime.datetime object \n",
    "# convert numpy.int64 into pandas time ojbect \n",
    "# convert time object into datetime.datetime\n",
    "chat_df['message_date'] = pd.to_datetime(chat_df['message_date'], unit='ns') \n",
    "chat_df['message_date'] = chat_df.apply(lambda row: row.message_date.to_pydatetime(warn=False),axis=1)\n",
    "chat_df['message_date'] = chat_df.apply(lambda row: row.message_date + pd.DateOffset(years=30),axis=1)\n",
    "\n",
    "chat_df.tail()\n"
   ]
  },
  {
   "cell_type": "code",
   "execution_count": 12,
   "metadata": {
    "collapsed": true
   },
   "outputs": [],
   "source": [
    "# add name column \n",
    "def add_name_col(phone_number):\n",
    "    if phone_number == '515-418-0987':\n",
    "        return 'Adam'\n",
    "    return 'Bridget'\n",
    "\n",
    "chat_df['name'] = chat_df.apply(lambda row: add_name_col(row.phone_number), axis=1)"
   ]
  },
  {
   "cell_type": "markdown",
   "metadata": {},
   "source": [
    "## Data Visualization"
   ]
  },
  {
   "cell_type": "code",
   "execution_count": 13,
   "metadata": {},
   "outputs": [
    {
     "data": {
      "image/png": "[encoded data removed]",
      "text/plain": [
       "<Figure size 432x288 with 1 Axes>"
      ]
     },
     "metadata": {},
     "output_type": "display_data"
    }
   ],
   "source": [
    "# pie chart for the number of messages sent between us\n",
    "labels = ['Adam', 'Bridget']\n",
    "values = [chat_df['is_sent'].value_counts()[1], \n",
    "         chat_df['is_received'].value_counts()[1]]\n",
    "\n",
    "def make_autopct(values):\n",
    "    def my_autopct(pct):\n",
    "        total = sum(values)\n",
    "        val = int(round(pct*total/100.0))\n",
    "        return '{p:.2f}% ({v:d})'.format(p=pct,v=val)\n",
    "    return my_autopct\n",
    "\n",
    "fig1, ax1 = plt.subplots()\n",
    "ax1.set_title('Number of messages sent')\n",
    "ax1.pie(values, labels=labels, autopct=make_autopct(values), shadow=True, startangle=90)\n",
    "ax1.axis('equal')\n",
    "plt.tight_layout()\n",
    "plt.show()"
   ]
  },
  {
   "cell_type": "code",
   "execution_count": 15,
   "metadata": {},
   "outputs": [
    {
     "data": {
      "image/png": "[encoded data removed]",
      "text/plain": [
       "<Figure size 432x288 with 1 Axes>"
      ]
     },
     "metadata": {},
     "output_type": "display_data"
    }
   ],
   "source": [
    "# get counts of every word using .lower() \n",
    "word_counts = chat_df.message.str.lower().str.split(expand=True).stack().value_counts()\n",
    "word_count_df = word_counts.to_frame().reset_index()\n",
    "word_count_df.rename(columns={'index':'word',0:'count'}, inplace=True)\n",
    "word_count_df.sort_values('count', ascending=False, inplace=True)\n",
    "\n",
    "# need to drop the count for spaces (' ') --> it's actually for pictures!! need to re-work logic\n",
    "word_count_df.drop(word_count_df.index[[8]], inplace=True)\n",
    "word_count_df.reset_index(drop=True, inplace=True)\n",
    "\n",
    "# this is for plotting\n",
    "# bar chart for top 10 words sent between us\n",
    "bar_values = word_count_df[:10]\n",
    "labels = bar_values['word'].values.tolist()\n",
    "values = bar_values['count'].values.tolist()\n",
    "x_pos = [i for i, _ in enumerate(labels)]\n",
    "\n",
    "plt.bar(x_pos, values)\n",
    "plt.xlabel('Word')\n",
    "plt.ylabel('Count')\n",
    "plt.title('Top 10 words used')\n",
    "plt.xticks(x_pos, labels)\n",
    "plt.tight_layout()\n",
    "plt.show()"
   ]
  },
  {
   "cell_type": "code",
   "execution_count": 78,
   "metadata": {},
   "outputs": [
    {
     "name": "stdout",
     "output_type": "stream",
     "text": [
      "---------------------\n",
      "<class 'str'> Are you going to the airport \n",
      "---------------------\n"
     ]
    }
   ],
   "source": [
    "# Dictionary storing emoji counts \n",
    "import collections\n",
    "import re\n",
    "emoji_count = collections.defaultdict(int) \n",
    "for i in chat_df['message']:\n",
    "    for emoji in re.findall(r'[\\U0001f300-\\U0001f650]|[\\u2000-\\u3000]|[\\U0001f3fb-\\U0001f3ff]?|[1F4AA]', i):     \n",
    "        emoji_count[emoji] += 1\n",
    "#adam_test = sorted(emoji_count.items(), key=lambda x: x[1], reverse=True)\n",
    "#print(adam_test)\n",
    "#print(len(adam_test))\n",
    "\n",
    "# Count emojis\n",
    "#amount_emojis = {}\n",
    "#pattern_not_emoji = '[\\d\\w!\"§\\\\$%&@/\\'„“()=?`´²–³{[\\].|}^*\\-+#,;:<>]'\n",
    "#for word in chat_df['message']:\n",
    "#    if not re.match(pattern_not_emoji, word):\n",
    "#        # Remove everything else from emojis\n",
    "#        emoji = re.sub(pattern_not_emoji + '♀', '', word)\n",
    "#        for char in list(emoji):\n",
    "#            if '\\u200d' not in emoji:\n",
    "#                if char in amount_emojis:\n",
    "#                    amount_emojis[char] += 1\n",
    "#                else:\n",
    "#                    amount_emojis[char] = 1\n",
    "#sorted_emojis = sorted(amount_emojis.items(), key=lambda x: x[1], reverse=True)\n",
    "\n",
    "emoji_pattern = re.compile(\n",
    "    u\"(\\ud83d[\\ude00-\\ude4f])|\"  # emoticons\n",
    "    u\"(\\ud83c[\\udf00-\\uffff])|\"  # symbols & pictographs (1 of 2)\n",
    "    u\"(\\ud83d[\\u0000-\\uddff])|\"  # symbols & pictographs (2 of 2)\n",
    "    u\"(\\ud83d[\\ude80-\\udeff])|\"  # transport & map symbols\n",
    "    u\"(\\ud83c[\\udde0-\\uddff])\"  # flags (iOS)\n",
    "    \"+\", flags=re.UNICODE)\n",
    "\n",
    "#char_with_modifier = re.compile(r'(.[\\U0001f3fb-\\U0001f3ff]?)')\n",
    "#print (collections.Counter(char_with_modifier.findall(emoji_string)))\n",
    "\n",
    "print(r'---------------------')\n",
    "test = chat_df.iloc[[115165]]\n",
    "test = test.values.tolist()[0]\n",
    "test = test[2]\n",
    "print(type(test),test)\n",
    "print(r'---------------------')\n",
    "\n",
    "#testing = [find_emoji(i) for i in test]\n",
    "#print(len(testing),testing)\n",
    "\n",
    "#word_count_df.loc[word_count_df['word'].isin(some_values)]\n"
   ]
  },
  {
   "cell_type": "code",
   "execution_count": 99,
   "metadata": {},
   "outputs": [
    {
     "data": {
      "image/png": "[encoded data removed]",
      "text/plain": [
       "<Figure size 432x288 with 1 Axes>"
      ]
     },
     "metadata": {},
     "output_type": "display_data"
    }
   ],
   "source": [
    "def group_by_date(date_column, *args):\n",
    "    return date_column.groupby(list(args)).agg('count')\n",
    "\n",
    "months_map = {1:'Jan',2:'Feb',3:'Mar',4:'Apr',5:'May',6:'Jun',7:'Jul',8:'Aug',9:'Sep',10:'Oct',11:'Nov',12:'Dec'}\n",
    "def mapper(month):\n",
    "    return months_map[month]\n",
    "\n",
    "bridget = chat_df[chat_df.is_received == 1]\n",
    "adam = chat_df[chat_df.is_sent == 1]\n",
    "\n",
    "# Get message by weekday\n",
    "#adam = adam['message_date'].groupby([adam.message_date.dt.weekday]).agg('count')\n",
    "#bridget = bridget['message_date'].groupby([bridget.message_date.dt.weekday]).agg('count')\n",
    "\n",
    "# Get message by month\n",
    "adam = group_by_date(adam['message_date'], adam.message_date.dt.year, adam.message_date.dt.month)\n",
    "bridget = group_by_date(bridget['message_date'], bridget.message_date.dt.year, bridget.message_date.dt.month)\n",
    "bridget = pd.DataFrame({'month':bridget.index, 'count':bridget.values}) \n",
    "adam = pd.DataFrame({'month':adam.index, 'count':adam.values}) \n",
    "adam['month'] = [mapper(x[1]) for x in adam.month.values]\n",
    "bridget['month'] = [mapper(x[1]) for x in bridget.month.values]\n",
    "\n",
    "\n",
    "ax = plt.subplot(111)\n",
    "w = 0.3\n",
    "ax.bar(adam['month'].tolist(), adam['count'].tolist(),width=w,color='b',align='center')\n",
    "ax.bar(bridget['month'].tolist(), bridget['count'].tolist(),width=w,color='g',align='center')\n",
    "ax.autoscale(tight=True)\n",
    "plt.show()"
   ]
  },
  {
   "cell_type": "code",
   "execution_count": null,
   "metadata": {
    "collapsed": true
   },
   "outputs": [],
   "source": [
    "# get top day and number of messages\n",
    "\n",
    "# get total # of words, and messages "
   ]
  }
 ],
 "metadata": {
  "kernelspec": {
   "display_name": "Python 3",
   "language": "python",
   "name": "python3"
  },
  "language_info": {
   "codemirror_mode": {
    "name": "ipython",
    "version": 3
   },
   "file_extension": ".py",
   "mimetype": "text/x-python",
   "name": "python",
   "nbconvert_exporter": "python",
   "pygments_lexer": "ipython3",
   "version": "3.6.2"
  }
 },
 "nbformat": 4,
 "nbformat_minor": 2
}
